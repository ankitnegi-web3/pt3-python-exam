{
 "cells": [
  {
   "cell_type": "markdown",
   "metadata": {},
   "source": [
    "    ANKIT NEGI\n",
    "    B.Tech CSE 4A\n",
    "    2K18CSUN01011\n",
    "    Python PT3\n",
    "\n",
    "[Theoritical Questions]\n",
    "\n",
    "1. What is the syntax to call a constructor of a base class from child class\n",
    "\n",
    "             Class Employee(self,firstname,lasname):\n",
    "                 def _init_(self,firstname,lastname)\n",
    "                 super()._init_(firstname,lastname)\n",
    "\n",
    "\n",
    "2. How is a class made as inherited class (syntax of child class) \n",
    "\n",
    "\n",
    "             class ParentClass:\n",
    "                   Body of parent class\n",
    "             class ChildClass(ParentClass):\n",
    "                   Body of child class\n",
    "\n",
    "\n",
    "3. Print an element of a nested dictionary \n",
    "\n",
    "\n",
    "             Dictionary= {1:'A',2:'B',3:('C','D'),4:['E','F','G','H'],5:{1:'X',2:'Y',3:'Z'}}\n",
    "             print(Dictionary[4])"
   ]
  },
  {
   "cell_type": "code",
   "execution_count": 1,
   "metadata": {},
   "outputs": [
    {
     "name": "stdout",
     "output_type": "stream",
     "text": [
      "2400,2402,2404,2406,2408,2420,2422,2424,2426,2428,2440,2442,2444,2446,2448,2460,2462,2464,2466,2468,2480,2482,2484,2486,2488,2600,2602,2604,2606,2608,2620,2622,2624,2626,2628,2640,2642,2644,2646,2648,2660,2662,2664,2666,2668,2680,2682,2684,2686,2688,2800,2802,2804,2806,2808,2820,2822,2824,2826,2828,2840,2842,2844,2846,2848,2860,2862,2864,2866,2868,2880,2882,2884,2886,2888\n"
     ]
    }
   ],
   "source": [
    "items = []\n",
    "for i in range(2300, 4000):\n",
    "    s = str(i)\n",
    "    if (int(s[0])%2==0) and (int(s[1])%2==0) and (int(s[2])%2==0) and (int(s[3])%2==0) :\n",
    "        items.append(s)\n",
    "print( \",\".join(items))"
   ]
  },
  {
   "cell_type": "code",
   "execution_count": 3,
   "metadata": {},
   "outputs": [
    {
     "name": "stdout",
     "output_type": "stream",
     "text": [
      "Sum =  70\n"
     ]
    }
   ],
   "source": [
    "def calculateSum (a,b):\n",
    "\ts = int(a) + int(b)\n",
    "\treturn s \n",
    "\n",
    "\n",
    "num1 =\"30\"\n",
    "num2 =\"40\"\n",
    "sum = calculateSum(num1, num2)\n",
    "\n",
    "\n",
    "print(\"Sum = \", sum)"
   ]
  },
  {
   "cell_type": "code",
   "execution_count": null,
   "metadata": {},
   "outputs": [],
   "source": []
  }
 ],
 "metadata": {
  "kernelspec": {
   "display_name": "Python 3",
   "language": "python",
   "name": "python3"
  },
  "language_info": {
   "codemirror_mode": {
    "name": "ipython",
    "version": 3
   },
   "file_extension": ".py",
   "mimetype": "text/x-python",
   "name": "python",
   "nbconvert_exporter": "python",
   "pygments_lexer": "ipython3",
   "version": "3.7.6"
  }
 },
 "nbformat": 4,
 "nbformat_minor": 2
}
